{
 "cells": [
  {
   "cell_type": "markdown",
   "metadata": {},
   "source": [
    "# COVID-19 Gender Dataset Analysis\n",
    "\n",
    "In this project, we'll look at the covid-19 cases and confirmed deaths, from april to september of 2020, for the state of Connecticut. We will answer the following questions:\n",
    "\n",
    "* Were there more male or female cases each month? Are males more likely to catch the virus versus females?\n",
    "* How did confirmed cases and total deaths change over time?"
   ]
  },
  {
   "cell_type": "markdown",
   "metadata": {},
   "source": [
    "Lets start the imports:"
   ]
  },
  {
   "cell_type": "code",
   "execution_count": 14,
   "metadata": {},
   "outputs": [],
   "source": [
    "import pandas as pd\n",
    "import numpy as np\n",
    "from matplotlib import pyplot as plt\n",
    "import calendar"
   ]
  },
  {
   "cell_type": "code",
   "execution_count": 15,
   "metadata": {},
   "outputs": [
    {
     "name": "stdout",
     "output_type": "stream",
     "text": [
      "<class 'pandas.core.frame.DataFrame'>\n",
      "RangeIndex: 285 entries, 0 to 284\n",
      "Data columns (total 9 columns):\n",
      " #   Column            Non-Null Count  Dtype  \n",
      "---  ------            --------------  -----  \n",
      " 0   DateUpdated       285 non-null    object \n",
      " 1   Gender            285 non-null    object \n",
      " 2   Total cases       285 non-null    int64  \n",
      " 3   Confirmed cases   164 non-null    float64\n",
      " 4   Probable cases    164 non-null    float64\n",
      " 5   Total case rate   272 non-null    float64\n",
      " 6   Total deaths      276 non-null    float64\n",
      " 7   Confirmed deaths  164 non-null    float64\n",
      " 8   Probable deaths   164 non-null    float64\n",
      "dtypes: float64(6), int64(1), object(2)\n",
      "memory usage: 20.2+ KB\n"
     ]
    },
    {
     "data": {
      "text/html": [
       "<div>\n",
       "<style scoped>\n",
       "    .dataframe tbody tr th:only-of-type {\n",
       "        vertical-align: middle;\n",
       "    }\n",
       "\n",
       "    .dataframe tbody tr th {\n",
       "        vertical-align: top;\n",
       "    }\n",
       "\n",
       "    .dataframe thead th {\n",
       "        text-align: right;\n",
       "    }\n",
       "</style>\n",
       "<table border=\"1\" class=\"dataframe\">\n",
       "  <thead>\n",
       "    <tr style=\"text-align: right;\">\n",
       "      <th></th>\n",
       "      <th>DateUpdated</th>\n",
       "      <th>Gender</th>\n",
       "      <th>Total cases</th>\n",
       "      <th>Confirmed cases</th>\n",
       "      <th>Probable cases</th>\n",
       "      <th>Total case rate</th>\n",
       "      <th>Total deaths</th>\n",
       "      <th>Confirmed deaths</th>\n",
       "      <th>Probable deaths</th>\n",
       "    </tr>\n",
       "  </thead>\n",
       "  <tbody>\n",
       "    <tr>\n",
       "      <th>0</th>\n",
       "      <td>05/21/2020</td>\n",
       "      <td>Female</td>\n",
       "      <td>21692</td>\n",
       "      <td>NaN</td>\n",
       "      <td>NaN</td>\n",
       "      <td>1186.0</td>\n",
       "      <td>1838.0</td>\n",
       "      <td>NaN</td>\n",
       "      <td>NaN</td>\n",
       "    </tr>\n",
       "    <tr>\n",
       "      <th>1</th>\n",
       "      <td>05/21/2020</td>\n",
       "      <td>Male</td>\n",
       "      <td>17738</td>\n",
       "      <td>NaN</td>\n",
       "      <td>NaN</td>\n",
       "      <td>1017.0</td>\n",
       "      <td>1790.0</td>\n",
       "      <td>NaN</td>\n",
       "      <td>NaN</td>\n",
       "    </tr>\n",
       "    <tr>\n",
       "      <th>2</th>\n",
       "      <td>05/22/2020</td>\n",
       "      <td>Female</td>\n",
       "      <td>21879</td>\n",
       "      <td>NaN</td>\n",
       "      <td>NaN</td>\n",
       "      <td>1196.0</td>\n",
       "      <td>1860.0</td>\n",
       "      <td>NaN</td>\n",
       "      <td>NaN</td>\n",
       "    </tr>\n",
       "    <tr>\n",
       "      <th>3</th>\n",
       "      <td>05/22/2020</td>\n",
       "      <td>Male</td>\n",
       "      <td>17913</td>\n",
       "      <td>NaN</td>\n",
       "      <td>NaN</td>\n",
       "      <td>1027.0</td>\n",
       "      <td>1805.0</td>\n",
       "      <td>NaN</td>\n",
       "      <td>NaN</td>\n",
       "    </tr>\n",
       "    <tr>\n",
       "      <th>4</th>\n",
       "      <td>05/23/2020</td>\n",
       "      <td>Female</td>\n",
       "      <td>22099</td>\n",
       "      <td>NaN</td>\n",
       "      <td>NaN</td>\n",
       "      <td>1208.0</td>\n",
       "      <td>1863.0</td>\n",
       "      <td>NaN</td>\n",
       "      <td>NaN</td>\n",
       "    </tr>\n",
       "  </tbody>\n",
       "</table>\n",
       "</div>"
      ],
      "text/plain": [
       "  DateUpdated  Gender  Total cases  Confirmed cases  Probable cases  \\\n",
       "0  05/21/2020  Female        21692              NaN             NaN   \n",
       "1  05/21/2020    Male        17738              NaN             NaN   \n",
       "2  05/22/2020  Female        21879              NaN             NaN   \n",
       "3  05/22/2020    Male        17913              NaN             NaN   \n",
       "4  05/23/2020  Female        22099              NaN             NaN   \n",
       "\n",
       "   Total case rate  Total deaths  Confirmed deaths  Probable deaths  \n",
       "0           1186.0        1838.0               NaN              NaN  \n",
       "1           1017.0        1790.0               NaN              NaN  \n",
       "2           1196.0        1860.0               NaN              NaN  \n",
       "3           1027.0        1805.0               NaN              NaN  \n",
       "4           1208.0        1863.0               NaN              NaN  "
      ]
     },
     "execution_count": 15,
     "metadata": {},
     "output_type": "execute_result"
    }
   ],
   "source": [
    "df = pd.read_csv('COVID-19_Cases_and_Deaths_by_Gender.csv')\n",
    "df.info()\n",
    "df.head()"
   ]
  },
  {
   "cell_type": "code",
   "execution_count": 16,
   "metadata": {},
   "outputs": [
    {
     "data": {
      "text/plain": [
       "0      05/21/2020\n",
       "1      05/21/2020\n",
       "2      05/22/2020\n",
       "3      05/22/2020\n",
       "4      05/23/2020\n",
       "          ...    \n",
       "280    09/08/2020\n",
       "281    09/09/2020\n",
       "282    09/09/2020\n",
       "283    09/10/2020\n",
       "284    09/10/2020\n",
       "Name: DateUpdated, Length: 285, dtype: object"
      ]
     },
     "execution_count": 16,
     "metadata": {},
     "output_type": "execute_result"
    }
   ],
   "source": [
    "df['DateUpdated']"
   ]
  },
  {
   "cell_type": "markdown",
   "metadata": {},
   "source": [
    "Lets take a look at the total cases/deaths grouped by gender."
   ]
  },
  {
   "cell_type": "code",
   "execution_count": 17,
   "metadata": {},
   "outputs": [
    {
     "name": "stdout",
     "output_type": "stream",
     "text": [
      "       DateUpdated  Total cases  Confirmed cases  Probable cases  \\\n",
      "Gender                                                             \n",
      "Female  05/21/2020        21692          22251.0          1139.0   \n",
      "Male    05/21/2020        17738          18216.0           918.0   \n",
      "Other   04/11/2020            1              NaN             NaN   \n",
      "\n",
      "        Total case rate  Total deaths  Confirmed deaths  Probable deaths  \n",
      "Gender                                                                    \n",
      "Female           1186.0        1838.0            1578.0            474.0  \n",
      "Male             1017.0        1790.0            1530.0            383.0  \n",
      "Other               NaN           NaN               NaN              NaN  \n"
     ]
    }
   ],
   "source": [
    "df1 = df.groupby('Gender')\n",
    "print(df1.first())"
   ]
  },
  {
   "cell_type": "markdown",
   "metadata": {},
   "source": [
    "Lets modify the 'DateUpdated' column to create 'Month'. groupby Gender and view by months"
   ]
  },
  {
   "cell_type": "code",
   "execution_count": 18,
   "metadata": {},
   "outputs": [],
   "source": [
    "#df.rename(columns={'DateUpdated':'Month'})\n",
    "df['DateUpdated']= pd.to_datetime(df['DateUpdated'])\n",
    "df['DateUpdated'] = sorted(df['DateUpdated'])\n",
    "df['month'] = df['DateUpdated'].dt.month_name()"
   ]
  },
  {
   "cell_type": "markdown",
   "metadata": {},
   "source": [
    "## Were there more Male/Female cases each month?"
   ]
  },
  {
   "cell_type": "markdown",
   "metadata": {},
   "source": [
    "Lets graph the Total cases by each month"
   ]
  },
  {
   "cell_type": "code",
   "execution_count": 19,
   "metadata": {
    "scrolled": true
   },
   "outputs": [
    {
     "name": "stderr",
     "output_type": "stream",
     "text": [
      "<ipython-input-19-247c4e483ada>:32: UserWarning: FixedFormatter should only be used together with FixedLocator\n",
      "  ax.set_xticklabels(labels)\n"
     ]
    },
    {
     "data": {
      "image/png": "[encoded data removed]",
      "text/plain": [
       "<Figure size 432x288 with 1 Axes>"
      ]
     },
     "metadata": {
      "needs_background": "light"
     },
     "output_type": "display_data"
    }
   ],
   "source": [
    "labels = ['', 'April', 'May', 'June', 'July', 'August', 'September']\n",
    "\n",
    "males = []\n",
    "females = []\n",
    "for i in range(len(labels)-1):\n",
    "    num = df[(df['Gender'] == 'Male') & (df['month'] == labels[i+1])]\n",
    "    num2 = num['Total cases'].max()\n",
    "    males.append(num2)\n",
    "for i in range(len(labels)-1):\n",
    "    num = df[(df['Gender'] == 'Female') & (df['month'] == labels[i+1])]\n",
    "    num2 = num['Total cases'].max()\n",
    "    females.append(num2)\n",
    "\n",
    "ax = plt.subplot()\n",
    "\n",
    "n = 1  # This is our first dataset (out of 2)\n",
    "t = 2 # Number of datasets\n",
    "d = 6 # Number of sets of bars\n",
    "w = .2 # Width of each bar\n",
    "store1_x = [t*element + w*n for element\n",
    "             in range(d)]\n",
    "ax.bar(store1_x, males)\n",
    "\n",
    "n = 2  # This is our first dataset (out of 2)\n",
    "t = 2 # Number of datasets\n",
    "d = 6 # Number of sets of bars\n",
    "w = .5 # Width of each bar\n",
    "store2_x = [t*element + w*n for element\n",
    "             in range(d)]\n",
    "ax.bar(store2_x, females)          \n",
    "\n",
    "ax.set_xticklabels(labels)\n",
    "plt.xlabel('Months')\n",
    "plt.ylabel('Total cases')\n",
    "plt.title('Total Covid-19 Cases of Connecticut per month')\n",
    "plt.legend(['Male', 'Female'])\n",
    "plt.show()"
   ]
  },
  {
   "cell_type": "markdown",
   "metadata": {},
   "source": [
    "Clearly we can observe that more Females were testing positives each month than Males. Predicting that Males are less likely to catch the virus. Cases have been gaining a steady incline throughout these past 6 months."
   ]
  },
  {
   "cell_type": "markdown",
   "metadata": {},
   "source": [
    "## How did confirmed cases/Total deaths change over time?"
   ]
  },
  {
   "cell_type": "code",
   "execution_count": 20,
   "metadata": {},
   "outputs": [
    {
     "name": "stdout",
     "output_type": "stream",
     "text": [
      "[23080, 23390, 25414, 27191, 28817, 29536]\n",
      "[2043.0, 2052.0, 2261.0, 2324.0, 2341.0, 2348.0]\n"
     ]
    },
    {
     "name": "stderr",
     "output_type": "stream",
     "text": [
      "<ipython-input-20-4e3d9690e149>:28: UserWarning: FixedFormatter should only be used together with FixedLocator\n",
      "  ax.set_xticklabels(labels)\n",
      "<ipython-input-20-4e3d9690e149>:29: UserWarning: FixedFormatter should only be used together with FixedLocator\n",
      "  bx.set_xticklabels(labels)\n"
     ]
    },
    {
     "data": {
      "image/png": "[encoded data removed]",
      "text/plain": [
       "<Figure size 1440x360 with 2 Axes>"
      ]
     },
     "metadata": {
      "needs_background": "light"
     },
     "output_type": "display_data"
    }
   ],
   "source": [
    "months = ['April', 'May', 'June', 'July', 'August', 'September']\n",
    "d =[]\n",
    "c =[]\n",
    "\n",
    "for i in range(len(labels)-1):\n",
    "    num = df[df['month'] == labels[i+1]]\n",
    "    num2 = num['Total deaths'].max()\n",
    "    d.append(num2)\n",
    "for i in range(len(labels)-1):\n",
    "    num = df[df['month'] == labels[i+1]]\n",
    "    num2 = num['Total cases'].max()\n",
    "    c.append(num2)\n",
    "    \n",
    "print(c)\n",
    "print(d)\n",
    "ax_yticks = ['', 400000, 600000, 800000, 1000000, 1200000]\n",
    "\n",
    "\n",
    "f = plt.figure(figsize=(20,5))\n",
    "f.suptitle('COVID-19 Connecticut')\n",
    "ax = f.add_subplot(121)\n",
    "bx = f.add_subplot(122)\n",
    "ax.plot(range(len(months)), c)\n",
    "bx.plot(range(len(months)), d)\n",
    "plt.xlabel('Months')\n",
    "ax.set_ylabel('Cases/Deaths')\n",
    "bx.set_ylabel('Cases/Deaths')\n",
    "ax.set_xticklabels(labels)\n",
    "bx.set_xticklabels(labels)\n",
    "ax.set_title('Total Cases per month')\n",
    "bx.set_title('Total Deaths per month')\n",
    "plt.show()"
   ]
  },
  {
   "cell_type": "markdown",
   "metadata": {},
   "source": [
    "Total deaths curve seems to be flattening during august. As the months pass, more people are wearing masks and socially distancing themselves properly; resulting in fewer deaths. However, Total cases seem to be rising, news indicates young adults seem to be the source of these new cases."
   ]
  }
 ],
 "metadata": {
  "kernelspec": {
   "display_name": "Python 3",
   "language": "python",
   "name": "python3"
  },
  "language_info": {
   "codemirror_mode": {
    "name": "ipython",
    "version": 3
   },
   "file_extension": ".py",
   "mimetype": "text/x-python",
   "name": "python",
   "nbconvert_exporter": "python",
   "pygments_lexer": "ipython3",
   "version": "3.8.5"
  }
 },
 "nbformat": 4,
 "nbformat_minor": 4
}
