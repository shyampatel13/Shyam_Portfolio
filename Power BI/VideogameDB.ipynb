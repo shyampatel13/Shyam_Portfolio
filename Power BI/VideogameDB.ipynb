{
 "cells": [
  {
   "cell_type": "markdown",
   "metadata": {},
   "source": [
    "# VideoGame Sales Dataset"
   ]
  },
  {
   "cell_type": "markdown",
   "metadata": {},
   "source": [
    "### Here we will take a look at a sample dataset I found in which I incorporated Python, MySQL, and Power BI to create analysis on Global Video Game Sales"
   ]
  },
  {
   "cell_type": "code",
   "execution_count": 1,
   "metadata": {},
   "outputs": [],
   "source": [
    "import pymysql\n",
    "import csv"
   ]
  },
  {
   "cell_type": "code",
   "execution_count": 2,
   "metadata": {},
   "outputs": [],
   "source": [
    "f = open(\"/Users/shyampatel/Desktop/Projects/Videogame Sales Data/vgsales.csv\", \"r\")\n",
    "fString = f.read()"
   ]
  },
  {
   "cell_type": "markdown",
   "metadata": {},
   "source": [
    "Convert string to a list"
   ]
  },
  {
   "cell_type": "code",
   "execution_count": 3,
   "metadata": {},
   "outputs": [],
   "source": [
    "fList = []\n",
    "for line in fString.split('\\n'):\n",
    "    fList.append(line.split(','))"
   ]
  },
  {
   "cell_type": "markdown",
   "metadata": {},
   "source": [
    "Open connection to MySQL Database using pymysql"
   ]
  },
  {
   "cell_type": "code",
   "execution_count": 4,
   "metadata": {},
   "outputs": [],
   "source": [
    "db = pymysql.connect(host=\"127.0.0.1\", user=\"root\", password=\"cowboys13\", port=3306, database='videogamedb')"
   ]
  },
  {
   "cell_type": "markdown",
   "metadata": {},
   "source": [
    "Prepare a cursor object using cursor() method"
   ]
  },
  {
   "cell_type": "code",
   "execution_count": 5,
   "metadata": {},
   "outputs": [],
   "source": [
    "cursor = db.cursor()"
   ]
  },
  {
   "cell_type": "code",
   "execution_count": 6,
   "metadata": {},
   "outputs": [
    {
     "data": {
      "text/plain": [
       "0"
      ]
     },
     "execution_count": 6,
     "metadata": {},
     "output_type": "execute_result"
    }
   ],
   "source": [
    "#Drop table is it already exists using execute() method\n",
    "cursor.execute(\"DROP TABLE IF EXISTS VGsales\")"
   ]
  },
  {
   "cell_type": "markdown",
   "metadata": {},
   "source": [
    "Create column names from the first line in fList, since they are used as headers in the csv file"
   ]
  },
  {
   "cell_type": "code",
   "execution_count": 7,
   "metadata": {},
   "outputs": [],
   "source": [
    "Ranking = fList[0][0]; Title = fList[0][1]; Platform = fList[0][2]; Released = fList[0][3]; Genre = fList[0][4]; Publisher = fList[0][5];\n",
    "NA_Sales = fList[0][6]; EU_Sales = fList[0][7]; JP_Sales = fList[0][8]; Other_Sales = fList[0][9]; Global_Sales = fList[0][10]"
   ]
  },
  {
   "cell_type": "code",
   "execution_count": 8,
   "metadata": {},
   "outputs": [
    {
     "data": {
      "text/plain": [
       "0"
      ]
     },
     "execution_count": 8,
     "metadata": {},
     "output_type": "execute_result"
    }
   ],
   "source": [
    "# CREATE VGsales TABLE\n",
    "queryCreateVGsalesTable = \"\"\"create TABLE VGsales(\n",
    "                            {} varchar(240) not null,\n",
    "                            {} varchar(240) NOT NULL ,\n",
    "                            {} varchar(240) NOT NULL,\n",
    "                            {} varchar(240) not null,\n",
    "                            {} varchar(240) NOT NULL,\n",
    "                            {} varchar(240) NOT NULL,\n",
    "                            {} varchar(240) not NULL,\n",
    "                            {} varchar(240) not NULL,\n",
    "                            {} varchar(240) not NULL,\n",
    "                            {} varchar(240) not NULL,\n",
    "                            {} varchar(240) not NULL\n",
    "                            )\"\"\".format(Ranking, Title, Platform, \n",
    "                                        Released, Genre, Publisher, \n",
    "                                        NA_Sales, EU_Sales, JP_Sales, \n",
    "                                        Other_Sales, Global_Sales)\n",
    "# Now we exectue the query\n",
    "cursor.execute(queryCreateVGsalesTable)"
   ]
  },
  {
   "cell_type": "markdown",
   "metadata": {},
   "source": [
    "Iterating through loop to automate inserting all the rows from the csv file into MySQL Database"
   ]
  },
  {
   "cell_type": "code",
   "execution_count": 9,
   "metadata": {},
   "outputs": [
    {
     "name": "stdout",
     "output_type": "stream",
     "text": [
      "Process Complete\n"
     ]
    }
   ],
   "source": [
    "for i in range(len(fList)-1):\n",
    "    insert_query = \"\"\"insert INTO VGsales VALUES (%s, %s, %s, %s, %s, %s, %s, %s, %s, %s, %s)\"\"\"\n",
    "    insert_value = [fList[i][0], fList[i][1], fList[i][2], fList[i][3], fList[i][4], fList[i][5], fList[i][6],\n",
    "    fList[i][7], fList[i][8], fList[i][9], fList[i][10]]\n",
    "    cursor.execute(insert_query, insert_value)\n",
    "    db.commit()\n",
    "    # To check which rows were inserted\n",
    "    # print(fList[i][0])\n",
    "    # print('Row Complete')\n",
    "print('Process Complete')\n",
    "db.close()"
   ]
  },
  {
   "cell_type": "markdown",
   "metadata": {},
   "source": [
    "<img src='Process Complete.png' style='height:250px' >"
   ]
  },
  {
   "cell_type": "markdown",
   "metadata": {},
   "source": [
    "I was able to sucessfully insert all the csv data into the MySql Database using python as a connector. Here you can see a query being run in MySql Workbench, here I can query through the data using groupby to find sales from titles released after a specific year."
   ]
  },
  {
   "cell_type": "markdown",
   "metadata": {},
   "source": [
    "<img src='mysql snippet.png'>"
   ]
  },
  {
   "cell_type": "markdown",
   "metadata": {},
   "source": [
    "In this next step I have imported this data into Power BI, connecting the Mysql server using my database's credentials. I transformed the data in the power query editor; changing column types, removing null rows/values."
   ]
  },
  {
   "cell_type": "markdown",
   "metadata": {},
   "source": [
    "<img src='query editor.png'>"
   ]
  },
  {
   "cell_type": "markdown",
   "metadata": {},
   "source": [
    "Finally I was able to create a report with 2 clean visualizations using a clustered column chart and two pie charts. This Report has been published to my Power BI workspace, so anyone with permissions are able to view/filter/share this report with anyone they'd like."
   ]
  },
  {
   "cell_type": "markdown",
   "metadata": {},
   "source": [
    "<img src='report1.png'>"
   ]
  },
  {
   "cell_type": "markdown",
   "metadata": {},
   "source": [
    "<img src='report2.png'>"
   ]
  }
 ],
 "metadata": {
  "kernelspec": {
   "display_name": "Python 3",
   "language": "python",
   "name": "python3"
  },
  "language_info": {
   "codemirror_mode": {
    "name": "ipython",
    "version": 3
   },
   "file_extension": ".py",
   "mimetype": "text/x-python",
   "name": "python",
   "nbconvert_exporter": "python",
   "pygments_lexer": "ipython3",
   "version": "3.8.5"
  }
 },
 "nbformat": 4,
 "nbformat_minor": 4
}
